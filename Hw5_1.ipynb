{
  "nbformat": 4,
  "nbformat_minor": 0,
  "metadata": {
    "colab": {
      "provenance": [],
      "authorship_tag": "ABX9TyOXPIEhiO/BIOC/SMGoyjZb",
      "include_colab_link": true
    },
    "kernelspec": {
      "name": "python3",
      "display_name": "Python 3"
    },
    "language_info": {
      "name": "python"
    }
  },
  "cells": [
    {
      "cell_type": "markdown",
      "metadata": {
        "id": "view-in-github",
        "colab_type": "text"
      },
      "source": [
        "<a href=\"https://colab.research.google.com/github/LeadShadow/hw5_data_science/blob/main/Hw5_1.ipynb\" target=\"_parent\"><img src=\"https://colab.research.google.com/assets/colab-badge.svg\" alt=\"Open In Colab\"/></a>"
      ]
    },
    {
      "cell_type": "code",
      "execution_count": 2,
      "metadata": {
        "id": "WLYsjyDBnJKV"
      },
      "outputs": [],
      "source": [
        "from scipy.optimize import minimize\n",
        "import numpy as np\n",
        "import pandas as pd\n",
        "import matplotlib.pyplot as plt"
      ]
    },
    {
      "cell_type": "markdown",
      "source": [
        "Для прямоугольной области площадью 1000 м2, примыкающей к прямому участку реки, необходимо построить ограду (причем со стороны реки ограду строить не нужно). При каких размерах области a, b длина ограды будет минимальной? Используйте функцию minimize с параметрами ограничениями bounds и constraints"
      ],
      "metadata": {
        "id": "qoJF4Y8pSa9K"
      }
    },
    {
      "cell_type": "code",
      "source": [
        "def f_1(l):\n",
        "    x, y = l\n",
        "    return 2 * x + y\n",
        "\n",
        "\n",
        "m_z3 = minimize(f_1, ([0], [100]), bounds=((0, None), (0, None)), constraints=({'type': 'eq', 'fun': lambda x: x[0] * x[1] - 1000}))\n",
        "m_z3"
      ],
      "metadata": {
        "id": "Xv4M3OKYnKcu",
        "colab": {
          "base_uri": "https://localhost:8080/"
        },
        "outputId": "a3060b9a-d298-4e6f-ee79-bdcf430b12c1"
      },
      "execution_count": 3,
      "outputs": [
        {
          "output_type": "execute_result",
          "data": {
            "text/plain": [
              "     fun: 89.44271919981466\n",
              "     jac: array([2., 1.])\n",
              " message: 'Optimization terminated successfully'\n",
              "    nfev: 36\n",
              "     nit: 12\n",
              "    njev: 12\n",
              "  status: 0\n",
              " success: True\n",
              "       x: array([22.35957402, 44.72357116])"
            ]
          },
          "metadata": {},
          "execution_count": 3
        }
      ]
    },
    {
      "cell_type": "code",
      "source": [],
      "metadata": {
        "id": "aBhTj7RESLWN"
      },
      "execution_count": null,
      "outputs": []
    }
  ]
}